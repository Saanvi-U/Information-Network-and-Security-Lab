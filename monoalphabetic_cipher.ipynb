{
  "nbformat": 4,
  "nbformat_minor": 0,
  "metadata": {
    "colab": {
      "provenance": [],
      "authorship_tag": "ABX9TyM3OFfj6QSZr9oOqXAS+KQt",
      "include_colab_link": true
    },
    "kernelspec": {
      "name": "python3",
      "display_name": "Python 3"
    },
    "language_info": {
      "name": "python"
    }
  },
  "cells": [
    {
      "cell_type": "markdown",
      "metadata": {
        "id": "view-in-github",
        "colab_type": "text"
      },
      "source": [
        "<a href=\"https://colab.research.google.com/github/Saanvi-U/Information-Network-and-Security-Lab/blob/main/monoalphabetic_cipher.ipynb\" target=\"_parent\"><img src=\"https://colab.research.google.com/assets/colab-badge.svg\" alt=\"Open In Colab\"/></a>"
      ]
    },
    {
      "cell_type": "code",
      "execution_count": null,
      "metadata": {
        "colab": {
          "base_uri": "https://localhost:8080/"
        },
        "id": "-FGAVtizrtqL",
        "outputId": "d03593af-501d-4648-ee4f-4affd78e9abb"
      },
      "outputs": [
        {
          "output_type": "stream",
          "name": "stdout",
          "text": [
            "Enter the plain text: you look pretty\n",
            "Encrypted: ngx sgga hktzzn\n",
            "Decrypted: you look pretty\n"
          ]
        }
      ],
      "source": [
        "keys = {'a':'q','b':'w','c':'e','d':'r','e':'t','f':'y','g':'u','h':'i','i':'o','j':'p','k':'a','l':'s','m':'d','n':'f','o':'g','p':'h','q':'j','r':'k','s':'l','t':'z','u':'x','v':'c','w':'v','x':'b','y':'n','z':'m'}\n",
        "\n",
        "reverse_keys = {}\n",
        "for key, value in keys.items():\n",
        "    reverse_keys[value] = key\n",
        "\n",
        "def encrypt(text):\n",
        "    text = str(text).lower()\n",
        "    encrypting = []\n",
        "    for l in text:\n",
        "        encrypting.append(keys.get(l, l))\n",
        "    return ''.join(encrypting)\n",
        "\n",
        "def decipher(text):\n",
        "    text = str(text).lower()\n",
        "    decrypted = []\n",
        "    for l in text:\n",
        "        decrypted.append(reverse_keys.get(l, l))\n",
        "    return ''.join(decrypted)\n",
        "\n",
        "x = input(\"Enter the plain text: \")\n",
        "encrypted = encrypt(x)\n",
        "decrypted = decipher(encrypted)\n",
        "print(\"Encrypted:\", encrypted)\n",
        "print(\"Decrypted:\", decrypted)\n"
      ]
    }
  ]
}