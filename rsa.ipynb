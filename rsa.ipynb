{
  "nbformat": 4,
  "nbformat_minor": 0,
  "metadata": {
    "colab": {
      "provenance": [],
      "authorship_tag": "ABX9TyMbVejCd0owHHksHjvweiVV",
      "include_colab_link": true
    },
    "kernelspec": {
      "name": "python3",
      "display_name": "Python 3"
    },
    "language_info": {
      "name": "python"
    }
  },
  "cells": [
    {
      "cell_type": "markdown",
      "metadata": {
        "id": "view-in-github",
        "colab_type": "text"
      },
      "source": [
        "<a href=\"https://colab.research.google.com/github/Saanvi-U/Information-Network-and-Security-Lab/blob/main/rsa.ipynb\" target=\"_parent\"><img src=\"https://colab.research.google.com/assets/colab-badge.svg\" alt=\"Open In Colab\"/></a>"
      ]
    },
    {
      "cell_type": "code",
      "execution_count": 1,
      "metadata": {
        "colab": {
          "base_uri": "https://localhost:8080/"
        },
        "id": "RvaPlilYrOAd",
        "outputId": "52c161a7-bb34-441c-a242-fa9ccdc3087c"
      },
      "outputs": [
        {
          "output_type": "stream",
          "name": "stdout",
          "text": [
            "Enter prime number p: 61\n",
            "Enter prime number q: 103\n",
            "Enter number to encrypt: 20\n",
            "Encrypted: 2108 \n",
            "Decrypted: 20\n"
          ]
        }
      ],
      "source": [
        "def gcd(a, b):\n",
        "    return a if b == 0 else gcd(b, a % b)\n",
        "\n",
        "def mod_inverse(e, phi):\n",
        "    return next(d for d in range(2, phi) if (d * e) % phi == 1)\n",
        "\n",
        "def rsa(p, q, msg):\n",
        "    n, phi = p * q, (p - 1) * (q - 1)\n",
        "    e = next(i for i in range(2, phi) if gcd(i, phi) == 1)\n",
        "    d = mod_inverse(e, phi)\n",
        "    cipher = pow(msg, e, n)\n",
        "    return cipher, pow(cipher, d, n)\n",
        "\n",
        "# Take user inputs for p, q, and message\n",
        "p, q = int(input(\"Enter prime number p: \")), int(input(\"Enter prime number q: \"))\n",
        "msg = int(input(\"Enter number to encrypt: \"))\n",
        "\n",
        "enc, dec = rsa(p, q, msg)\n",
        "print(\"Encrypted:\", enc, \"\\nDecrypted:\", dec)\n"
      ]
    }
  ]
}