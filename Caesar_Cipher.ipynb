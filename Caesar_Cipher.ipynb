{
  "nbformat": 4,
  "nbformat_minor": 0,
  "metadata": {
    "colab": {
      "provenance": [],
      "authorship_tag": "ABX9TyP1hv2NadxE/W1zjR1AK3UM",
      "include_colab_link": true
    },
    "kernelspec": {
      "name": "python3",
      "display_name": "Python 3"
    },
    "language_info": {
      "name": "python"
    }
  },
  "cells": [
    {
      "cell_type": "markdown",
      "metadata": {
        "id": "view-in-github",
        "colab_type": "text"
      },
      "source": [
        "<a href=\"https://colab.research.google.com/github/Saanvi-U/Information-Network-and-Security-Lab/blob/main/Caesar_Cipher.ipynb\" target=\"_parent\"><img src=\"https://colab.research.google.com/assets/colab-badge.svg\" alt=\"Open In Colab\"/></a>"
      ]
    },
    {
      "cell_type": "code",
      "execution_count": 2,
      "metadata": {
        "colab": {
          "base_uri": "https://localhost:8080/"
        },
        "id": "zwcPEygAniIk",
        "outputId": "b9b71cf8-8dbc-4cf6-d9ff-38b31b3b1718"
      },
      "outputs": [
        {
          "output_type": "stream",
          "name": "stdout",
          "text": [
            "Enter the ciphertext: saanvi\n",
            "Enter the shift value used for encryption: 1\n",
            "Plaintext is: rzzmuh\n"
          ]
        }
      ],
      "source": [
        "def decryption(ciphertext, n):\n",
        "    plaintext = \"\"\n",
        "    for i in range(len(ciphertext)):\n",
        "        ch = ciphertext[i]\n",
        "        if (ch == \" \"):  # Keep spaces unchanged\n",
        "            plaintext += \" \"\n",
        "        elif (ch.isupper()):  # Decrypt uppercase letters\n",
        "            plaintext += chr((ord(ch) - n - 65) % 26 + 65)\n",
        "        elif (ch.islower()):  # Decrypt lowercase letters\n",
        "            plaintext += chr((ord(ch) - n - 97) % 26 + 97)\n",
        "        else:  # Handle non-alphabetic characters\n",
        "            plaintext += ch\n",
        "    return plaintext\n",
        "\n",
        "# Example usage\n",
        "ciphertext = input(\"Enter the ciphertext: \")\n",
        "n = int(input(\"Enter the shift value used for encryption: \"))\n",
        "print(\"Plaintext is:\", decryption(ciphertext, n))"
      ]
    }
  ]
}