{
  "nbformat": 4,
  "nbformat_minor": 0,
  "metadata": {
    "colab": {
      "provenance": [],
      "authorship_tag": "ABX9TyMI1TtnsH1mh1l4VPse7JrR",
      "include_colab_link": true
    },
    "kernelspec": {
      "name": "python3",
      "display_name": "Python 3"
    },
    "language_info": {
      "name": "python"
    }
  },
  "cells": [
    {
      "cell_type": "markdown",
      "metadata": {
        "id": "view-in-github",
        "colab_type": "text"
      },
      "source": [
        "<a href=\"https://colab.research.google.com/github/Saanvi-U/Information-Network-and-Security-Lab/blob/main/diffie_hellman.ipynb\" target=\"_parent\"><img src=\"https://colab.research.google.com/assets/colab-badge.svg\" alt=\"Open In Colab\"/></a>"
      ]
    },
    {
      "cell_type": "code",
      "execution_count": 2,
      "metadata": {
        "colab": {
          "base_uri": "https://localhost:8080/"
        },
        "id": "IrvF1B9ErsSQ",
        "outputId": "e13b83e1-b2ea-4258-ab72-96019bff4cb3"
      },
      "outputs": [
        {
          "output_type": "stream",
          "name": "stdout",
          "text": [
            "Public Parameters:\n",
            "  Prime number (p): 23\n",
            "  Primitive root (g): 5\n",
            "\n",
            "Private Keys:\n",
            "  Private key for A: 19\n",
            "  Private key for B: 19\n",
            "\n",
            "Public Keys:\n",
            "  Public key for A: 7\n",
            "  Public key for B: 7\n",
            "\n",
            "Shared Secret Key (computed by both A and B):\n",
            "  Shared key: 11\n"
          ]
        }
      ],
      "source": [
        "#Diffie hellman\n",
        "import random\n",
        "\n",
        "# Step 1: Public parameters\n",
        "p = 23  # Prime number (example)\n",
        "g = 5   # Primitive root modulo p (example)\n",
        "\n",
        "# Step 2: Generate private keys for A and B\n",
        "private_key_A = random.randint(1, p - 1)  # Private key for A\n",
        "private_key_B = random.randint(1, p - 1)  # Private key for B\n",
        "\n",
        "# Step 3: Compute public keys\n",
        "public_key_A = pow(g, private_key_A, p)  # A's public key: (g^a) mod p\n",
        "public_key_B = pow(g, private_key_B, p)  # B's public key: (g^b) mod p\n",
        "\n",
        "# Step 4: Exchange public keys and compute the shared secret\n",
        "shared_secret_A = pow(public_key_B, private_key_A, p)  # A computes: (B^a) mod p\n",
        "shared_secret_B = pow(public_key_A, private_key_B, p)  # B computes: (A^b) mod p\n",
        "\n",
        "# Step 5: Verify that the shared secrets are the same\n",
        "assert shared_secret_A == shared_secret_B, \"Shared secrets do not match!\"\n",
        "\n",
        "# Output results\n",
        "print(\"Public Parameters:\")\n",
        "print(f\"  Prime number (p): {p}\")\n",
        "print(f\"  Primitive root (g): {g}\\n\")\n",
        "\n",
        "print(\"Private Keys:\")\n",
        "print(f\"  Private key for A: {private_key_A}\")\n",
        "print(f\"  Private key for B: {private_key_B}\\n\")\n",
        "\n",
        "print(\"Public Keys:\")\n",
        "print(f\"  Public key for A: {public_key_A}\")\n",
        "print(f\"  Public key for B: {public_key_B}\\n\")\n",
        "\n",
        "print(\"Shared Secret Key (computed by both A and B):\")\n",
        "print(f\"  Shared key: {shared_secret_A}\")\n"
      ]
    }
  ]
}