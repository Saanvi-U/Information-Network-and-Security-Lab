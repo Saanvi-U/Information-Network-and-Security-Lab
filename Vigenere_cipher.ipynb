{
  "nbformat": 4,
  "nbformat_minor": 0,
  "metadata": {
    "colab": {
      "provenance": [],
      "authorship_tag": "ABX9TyPEkyOy4Kfjgn90/oIcBIBr",
      "include_colab_link": true
    },
    "kernelspec": {
      "name": "python3",
      "display_name": "Python 3"
    },
    "language_info": {
      "name": "python"
    }
  },
  "cells": [
    {
      "cell_type": "markdown",
      "metadata": {
        "id": "view-in-github",
        "colab_type": "text"
      },
      "source": [
        "<a href=\"https://colab.research.google.com/github/Saanvi-U/Information-Network-and-Security-Lab/blob/main/Vigenere_cipher.ipynb\" target=\"_parent\"><img src=\"https://colab.research.google.com/assets/colab-badge.svg\" alt=\"Open In Colab\"/></a>"
      ]
    },
    {
      "cell_type": "code",
      "execution_count": 1,
      "metadata": {
        "colab": {
          "base_uri": "https://localhost:8080/"
        },
        "id": "xeFBl_P8o0sH",
        "outputId": "7df70e5c-dd68-4959-9550-0b4f58b4de70"
      },
      "outputs": [
        {
          "output_type": "stream",
          "name": "stdout",
          "text": [
            "Ciphertext: RIJVS\n",
            "Decrypted: HELLO\n"
          ]
        }
      ],
      "source": [
        "def vigenere(text, key, decrypt=False):\n",
        "    key = (key * (len(text) // len(key) + 1))[:len(text)]\n",
        "    shift = -1 if decrypt else 1\n",
        "    return ''.join(chr((ord(c) - 65 + shift * (ord(k) - 65)) % 26 + 65) if c.isalpha() else c for c, k in zip(text.upper(), key.upper()))\n",
        "\n",
        "# Example Usage\n",
        "plaintext = \"HELLO\"\n",
        "key = \"KEY\"\n",
        "ciphertext = vigenere(plaintext, key)\n",
        "decrypted = vigenere(ciphertext, key, decrypt=True)\n",
        "\n",
        "print(\"Ciphertext:\", ciphertext)\n",
        "print(\"Decrypted:\", decrypted)"
      ]
    }
  ]
}