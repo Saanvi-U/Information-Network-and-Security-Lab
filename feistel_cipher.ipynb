{
  "nbformat": 4,
  "nbformat_minor": 0,
  "metadata": {
    "colab": {
      "provenance": [],
      "authorship_tag": "ABX9TyN+Azz0JFWu5xbt5E0tvaX0",
      "include_colab_link": true
    },
    "kernelspec": {
      "name": "python3",
      "display_name": "Python 3"
    },
    "language_info": {
      "name": "python"
    }
  },
  "cells": [
    {
      "cell_type": "markdown",
      "metadata": {
        "id": "view-in-github",
        "colab_type": "text"
      },
      "source": [
        "<a href=\"https://colab.research.google.com/github/Saanvi-U/Information-Network-and-Security-Lab/blob/main/feistel_cipher.ipynb\" target=\"_parent\"><img src=\"https://colab.research.google.com/assets/colab-badge.svg\" alt=\"Open In Colab\"/></a>"
      ]
    },
    {
      "cell_type": "code",
      "execution_count": 1,
      "metadata": {
        "colab": {
          "base_uri": "https://localhost:8080/"
        },
        "id": "HSn4FOQLkzK6",
        "outputId": "32108db6-6444-4886-82fd-3a02f9e8b4f0"
      },
      "outputs": [
        {
          "output_type": "stream",
          "name": "stdout",
          "text": [
            "Encrypted: o123l1'n\n",
            "Decrypted: hello123\n"
          ]
        }
      ],
      "source": [
        "def feistel_round(data, key):\n",
        "    \"\"\"Simple Feistel round function (XOR-based)\"\"\"\n",
        "    return ''.join(chr(ord(data[i]) ^ ord(key[i % len(key)])) for i in range(len(data)))\n",
        "\n",
        "def feistel_encrypt(plain_text, key, rounds=4):\n",
        "    if len(plain_text) % 2 != 0:\n",
        "        plain_text += \" \"  # Padding if odd length\n",
        "\n",
        "    L, R = plain_text[:len(plain_text)//2], plain_text[len(plain_text)//2:]\n",
        "\n",
        "    for _ in range(rounds):\n",
        "        new_R = feistel_round(R, key)  # Apply Feistel function on R\n",
        "        L, R = R, ''.join(chr(ord(L[j]) ^ ord(new_R[j])) for j in range(len(L)))  # XOR L with new_R\n",
        "\n",
        "    return L + R\n",
        "\n",
        "def feistel_decrypt(cipher_text, key, rounds=4):\n",
        "    if len(cipher_text) % 2 != 0:\n",
        "        raise ValueError(\"Ciphertext length must be even.\")\n",
        "\n",
        "    L, R = cipher_text[:len(cipher_text)//2], cipher_text[len(cipher_text)//2:]\n",
        "\n",
        "    for _ in range(rounds):\n",
        "        new_L = feistel_round(L, key)  # Reverse Feistel function on L\n",
        "        R, L = L, ''.join(chr(ord(R[j]) ^ ord(new_L[j])) for j in range(len(R)))  # XOR R with new_L\n",
        "\n",
        "    return L + R\n",
        "\n",
        "text = \"hello123\"  # Must be even-length\n",
        "key = \"key123\"\n",
        "enc = feistel_encrypt(text, key)\n",
        "dec = feistel_decrypt(enc, key)\n",
        "print(\"Encrypted:\", enc)\n",
        "print(\"Decrypted:\", dec.strip())  # Strip padding if needed\n",
        "\n"
      ]
    }
  ]
}