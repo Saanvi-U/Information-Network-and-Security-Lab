{
  "nbformat": 4,
  "nbformat_minor": 0,
  "metadata": {
    "colab": {
      "provenance": [],
      "authorship_tag": "ABX9TyOvy6FJ4H17j8BWQXHje2JL",
      "include_colab_link": true
    },
    "kernelspec": {
      "name": "python3",
      "display_name": "Python 3"
    },
    "language_info": {
      "name": "python"
    }
  },
  "cells": [
    {
      "cell_type": "markdown",
      "metadata": {
        "id": "view-in-github",
        "colab_type": "text"
      },
      "source": [
        "<a href=\"https://colab.research.google.com/github/Saanvi-U/Information-Network-and-Security-Lab/blob/main/des.ipynb\" target=\"_parent\"><img src=\"https://colab.research.google.com/assets/colab-badge.svg\" alt=\"Open In Colab\"/></a>"
      ]
    },
    {
      "cell_type": "code",
      "execution_count": 1,
      "metadata": {
        "colab": {
          "base_uri": "https://localhost:8080/"
        },
        "id": "OTSdSbKyqsRG",
        "outputId": "22d8c89f-1dbc-4792-a9ff-f8bcd7049026"
      },
      "outputs": [
        {
          "output_type": "stream",
          "name": "stdout",
          "text": [
            "Enter a string : saanvi\n",
            "Key  1  =  110110110100000011100001110010\n",
            "Key  2  =  101101101101010001000011000100\n",
            "Key  3  =  101111010000010000110001000000\n",
            "Key  4  =  101101001000000001110000000000\n",
            "Key  5  =  111110101001001111000111000010\n",
            "Key  6  =  110111001000001000010000100000\n",
            "Key  7  =  111011101010000110001110001000\n",
            "Key  8  =  101000100000000011100010000000\n"
          ]
        }
      ],
      "source": [
        "#DES\n",
        "import random\n",
        "\n",
        "s = input(\"Enter a string : \")\n",
        "\n",
        "result = ''.join(format(ord(i), '08b') for i in s)  # Convert each character to byte\n",
        "answer = \"\"\n",
        "\n",
        "for i in range(len(result)):\n",
        "    if (i % 8 != 0):  # Remove the first bit\n",
        "       answer += result[i]\n",
        "\n",
        "l = int(len(answer) / 2)\n",
        "left = answer[:l]\n",
        "right = answer[l:]\n",
        "lt = [2, 3, 6, 7, 1, 6, 5, 9]  # Permutation box\n",
        "\n",
        "keys = []\n",
        "\n",
        "for i in range(0, 8):\n",
        "    newKey = \"\"\n",
        "    newAnswer = \"\"\n",
        "\n",
        "    nl = int(left, 2)\n",
        "    nl = bin(nl << lt[i])[2:]  # Convert back to binary string\n",
        "\n",
        "    nr = int(right, 2)\n",
        "    nr = bin(nr << lt[i])[2:]  # Convert back to binary string\n",
        "\n",
        "    num = 2 + lt[i]  # Increase shift by 2\n",
        "\n",
        "    newKey = nr[num:] + nl[num:]  # Add the new left and right\n",
        "\n",
        "    rm = []\n",
        "    while len(rm) != 8:\n",
        "        r = random.randint(0, len(newKey) - 1)\n",
        "        if r not in rm:  # Ensure unique values\n",
        "            rm.append(r)\n",
        "\n",
        "    for i in range(len(newKey)):\n",
        "        if i not in rm:\n",
        "            newAnswer += newKey[i]\n",
        "\n",
        "    keys.append(newAnswer)\n",
        "\n",
        "for i in range(0, len(keys)):\n",
        "    print(\"Key \", i + 1, \" = \", keys[i])\n"
      ]
    }
  ]
}