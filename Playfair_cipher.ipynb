{
  "nbformat": 4,
  "nbformat_minor": 0,
  "metadata": {
    "colab": {
      "provenance": [],
      "authorship_tag": "ABX9TyOgpyrnHUmKI8ASrZW73TTx",
      "include_colab_link": true
    },
    "kernelspec": {
      "name": "python3",
      "display_name": "Python 3"
    },
    "language_info": {
      "name": "python"
    }
  },
  "cells": [
    {
      "cell_type": "markdown",
      "metadata": {
        "id": "view-in-github",
        "colab_type": "text"
      },
      "source": [
        "<a href=\"https://colab.research.google.com/github/Saanvi-U/Information-Network-and-Security-Lab/blob/main/Playfair_cipher.ipynb\" target=\"_parent\"><img src=\"https://colab.research.google.com/assets/colab-badge.svg\" alt=\"Open In Colab\"/></a>"
      ]
    },
    {
      "cell_type": "code",
      "execution_count": null,
      "metadata": {
        "colab": {
          "base_uri": "https://localhost:8080/"
        },
        "id": "WyyDHn4dS6qS",
        "outputId": "56c1344a-28e8-4283-f3b2-a88faf6a447d"
      },
      "outputs": [
        {
          "output_type": "stream",
          "name": "stdout",
          "text": [
            "enter the keymonarchy\n",
            "enter the messageinstruments\n",
            "GATLMZCLRQXA\n"
          ]
        }
      ],
      "source": [
        "def playfair_cipher(key,message):\n",
        "    key=''.join(dict.fromkeys(key.upper()+\"ABCDEFGHIKLMNOPQRSTUVWXYZ\".replace('J','')))\n",
        "    table=[key[i:i+5] for i in range(0,25,5)]\n",
        "\n",
        "    message=message.replace('J','I').upper()\n",
        "\n",
        "    pairs=[]\n",
        "    i=0\n",
        "    while i<len(message):\n",
        "        a=message[i]\n",
        "        b=message[i+1] if i+1<len(message) else 'X'\n",
        "        if a==b:\n",
        "            pairs.append((a,'X'))\n",
        "            i+=1\n",
        "        else:\n",
        "            pairs.append((a,b))\n",
        "            i+=2\n",
        "\n",
        "    def encrypt(pair):\n",
        "        idx1,idx2=key.index(pair[0]),key.index(pair[1])\n",
        "        row1,col1=divmod(idx1,5)\n",
        "        row2,col2=divmod(idx2,5)\n",
        "        if(row1==row2):\n",
        "            return table[row1][(col1+1)%5]+table[row2][(col2+1)%5]\n",
        "        elif col1==col2:\n",
        "            return table[(row1+1)%5][col1]+table[(row2+1)%5][col2]\n",
        "        else:\n",
        "            return table[row1][col2]+table[row2][col1]\n",
        "\n",
        "    encrypted_message=''.join(encrypt(pair) for pair in pairs)\n",
        "    return encrypted_message\n",
        "\n",
        "key=input(\"enter the key\")\n",
        "message=input(\"enter the message\")\n",
        "print(playfair_cipher(key,message))\n",
        "\n"
      ]
    }
  ]
}